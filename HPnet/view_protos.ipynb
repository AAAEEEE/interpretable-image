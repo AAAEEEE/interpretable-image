{
 "cells": [
  {
   "cell_type": "code",
   "execution_count": null,
   "metadata": {},
   "outputs": [],
   "source": [
    "import os\n",
    "import numpy as np\n",
    "\n",
    "import matplotlib.pyplot as plt\n",
    "import matplotlib.image as mpimg\n",
    "from scipy.misc import imresize, imread \n",
    "import time\n",
    "from node import Node\n",
    "\n",
    "proto_dir = \"saved_models_8protos1/\"\n",
    "\n",
    "\n",
    "root = Node(\"root\")\n",
    "root.add_children(['animal','vehicle','everyday_object','weapon','scuba_diver'])\n",
    "root.add_children_to('animal',['non_primate','primate'])\n",
    "root.add_children_to('non_primate',['African_elephant','giant_panda','lion'])\n",
    "root.add_children_to('primate',['capuchin','gibbon','orangutan'])\n",
    "root.add_children_to('vehicle',['ambulance','pickup','sports_car'])\n",
    "root.add_children_to('everyday_object',['laptop','sandal','wine_bottle'])\n",
    "root.add_children_to('weapon',['assault_rifle','rifle'])\n",
    "root.assign_all_descendents()\n",
    "root.assign_proto_dirs()\n",
    "\n",
    "num_protos_per_class = 8\n",
    "\n",
    "train_dir = \"../datasets/imagenet/train\"\n",
    "\n",
    "IDcoarse_names = root.children_names()\n",
    "IDfine_names = os.listdir(train_dir)\n",
    "IDfine_names.sort()\n",
    "label2name = {i : name for (i,name) in enumerate(IDfine_names)}\n",
    "IDfineLabel2coarseLabel = {label : root.children_to_labels[root.closest_descendent_for(name).name] for label, name in enumerate(IDfine_names)}    \n",
    "\n",
    "\n"
   ]
  },
  {
   "cell_type": "code",
   "execution_count": null,
   "metadata": {},
   "outputs": [],
   "source": [
    "\n",
    "for node in root.nodes_with_children():\n",
    "    path = proto_dir + node.proto_dir\n",
    "    prototype_info = np.load(os.path.join(path, 'bb'+'.npy'))\n",
    "    #if node.name == \"root\": print(prototype_info)\n",
    "    setattr(node,\"proto_idx\",prototype_info[:,0])\n",
    "    \n",
    "def img_id_to_name(idx):\n",
    "    per_class = 1250\n",
    "    class_id = idx // per_class\n",
    "    return IDfine_names[class_id]\n",
    "\n",
    "node = root.get_node(\"animal\")\n",
    "\n",
    "for i, proto_id in enumerate(node.proto_idx):\n",
    "    print(str(i) + \" \" + img_id_to_name(proto_id))\n",
    "\n",
    "    \n"
   ]
  },
  {
   "cell_type": "code",
   "execution_count": null,
   "metadata": {
    "scrolled": true
   },
   "outputs": [],
   "source": [
    "node = root\n",
    "for i in range(node.num_children()):\n",
    "    for j in range(num_protos_per_class):\n",
    "        index = i*num_protos_per_class + j\n",
    "        path = os.path.join(proto_dir+node.name+\"_prototypes\",\"prototype-img\" + str(i*num_protos_per_class+j) + \".png\")\n",
    "        img = imread(path)\n",
    "        fig = plt.figure()\n",
    "        plt.imshow(img)\n",
    "        plt.title(\"Class: \" + node.children[i].name + \" -- Prototype: \" + str(i*num_protos_per_class+j))\n",
    "        plt.show()\n",
    "\n"
   ]
  },
  {
   "cell_type": "code",
   "execution_count": null,
   "metadata": {
    "scrolled": true
   },
   "outputs": [],
   "source": [
    "node = root.get_node(\"animal\")\n",
    "for i in range(node.num_children()):\n",
    "    for j in range(num_protos_per_class):\n",
    "        index = i*num_protos_per_class + j\n",
    "        path = os.path.join(proto_dir+node.name+\"_prototypes\",\"prototype-img\" + str(i*num_protos_per_class+j) + \".png\")\n",
    "        img = imread(path)\n",
    "        fig = plt.figure()\n",
    "        plt.imshow(img)\n",
    "        plt.title(\"Class: \" + node.children[i].name + \" -- Prototype: \" + str(i*num_protos_per_class+j))\n",
    "        plt.show()\n",
    "\n"
   ]
  },
  {
   "cell_type": "code",
   "execution_count": null,
   "metadata": {},
   "outputs": [],
   "source": [
    "node = root.get_node(\"non_primate\")\n",
    "for i in range(node.num_children()):\n",
    "    for j in range(num_protos_per_class):\n",
    "        index = i*num_protos_per_class + j\n",
    "        path = os.path.join(proto_dir+node.name+\"_prototypes\",\"prototype-img\" + str(i*num_protos_per_class+j) + \".png\")\n",
    "        img = imread(path)\n",
    "        fig = plt.figure()\n",
    "        plt.imshow(img)\n",
    "        plt.title(\"Class: \" + node.children[i].name + \" -- Prototype: \" + str(i*num_protos_per_class+j))\n",
    "        plt.show()\n",
    "\n"
   ]
  },
  {
   "cell_type": "code",
   "execution_count": null,
   "metadata": {},
   "outputs": [],
   "source": [
    "node = root.get_node(\"primate\")\n",
    "for i in range(node.num_children()):\n",
    "    for j in range(num_protos_per_class):\n",
    "        index = i*num_protos_per_class + j\n",
    "        path = os.path.join(proto_dir+node.name+\"_prototypes\",\"prototype-img\" + str(i*num_protos_per_class+j) + \".png\")\n",
    "        img = imread(path)\n",
    "        fig = plt.figure()\n",
    "        plt.imshow(img)\n",
    "        plt.title(\"Class: \" + node.children[i].name + \" -- Prototype: \" + str(i*num_protos_per_class+j))\n",
    "        plt.show()\n",
    "\n"
   ]
  },
  {
   "cell_type": "code",
   "execution_count": null,
   "metadata": {},
   "outputs": [],
   "source": [
    "node = root.get_node(\"everyday_object\")\n",
    "for i in range(node.num_children()):\n",
    "    for j in range(num_protos_per_class):\n",
    "        index = i*num_protos_per_class + j\n",
    "        path = os.path.join(proto_dir+node.name+\"_prototypes\",\"prototype-img\" + str(i*num_protos_per_class+j) + \".png\")\n",
    "        img = imread(path)\n",
    "        fig = plt.figure()\n",
    "        plt.imshow(img)\n",
    "        plt.title(\"Class: \" + node.children[i].name + \" -- Prototype: \" + str(i*num_protos_per_class+j))\n",
    "        plt.show()\n",
    "\n"
   ]
  },
  {
   "cell_type": "code",
   "execution_count": null,
   "metadata": {
    "scrolled": true
   },
   "outputs": [],
   "source": [
    "node = root.get_node(\"vehicle\")\n",
    "for i in range(node.num_children()):\n",
    "    for j in range(num_protos_per_class):\n",
    "        index = i*num_protos_per_class + j\n",
    "        path = os.path.join(proto_dir+node.name+\"_prototypes\",\"prototype-img\" + str(i*num_protos_per_class+j) + \".png\")\n",
    "        img = imread(path)\n",
    "        fig = plt.figure()\n",
    "        plt.imshow(img)\n",
    "        plt.title(\"Class: \" + node.children[i].name + \" -- Prototype: \" + str(i*num_protos_per_class+j))\n",
    "        plt.show()\n",
    "\n"
   ]
  },
  {
   "cell_type": "code",
   "execution_count": null,
   "metadata": {
    "scrolled": false
   },
   "outputs": [],
   "source": [
    "node = root.get_node(\"weapon\")\n",
    "for i in range(node.num_children()):\n",
    "    for j in range(num_protos_per_class):\n",
    "        index = i*num_protos_per_class + j\n",
    "        path = os.path.join(proto_dir+node.name+\"_prototypes\",\"prototype-img\" + str(i*num_protos_per_class+j) + \".png\")\n",
    "        img = imread(path)\n",
    "        fig = plt.figure()\n",
    "        plt.imshow(img)\n",
    "        plt.title(\"Class: \" + node.children[i].name + \" -- Prototype: \" + str(i*num_protos_per_class+j))\n",
    "        plt.show()\n",
    "\n"
   ]
  },
  {
   "cell_type": "code",
   "execution_count": null,
   "metadata": {},
   "outputs": [],
   "source": []
  }
 ],
 "metadata": {
  "kernelspec": {
   "display_name": "Python 3",
   "language": "python",
   "name": "python3"
  },
  "language_info": {
   "codemirror_mode": {
    "name": "ipython",
    "version": 3
   },
   "file_extension": ".py",
   "mimetype": "text/x-python",
   "name": "python",
   "nbconvert_exporter": "python",
   "pygments_lexer": "ipython3",
   "version": "3.6.4"
  }
 },
 "nbformat": 4,
 "nbformat_minor": 2
}
